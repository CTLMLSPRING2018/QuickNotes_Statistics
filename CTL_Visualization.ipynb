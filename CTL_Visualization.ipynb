{
 "cells": [
  {
   "cell_type": "markdown",
   "metadata": {},
   "source": [
    "DATA VISUALIZATION:\n",
    "\n",
    "It helps in the analysis of the data.\n",
    "We can have more insights and extract more information from a visual model of data.\n",
    "\n",
    "1. Categorical:\n",
    "    a. Pie Chart\n",
    "    b. Bar Graph\n",
    "2. Continous:\n",
    "    a. Histogram    \n",
    "3. Box Plot    "
   ]
  },
  {
   "cell_type": "code",
   "execution_count": null,
   "metadata": {},
   "outputs": [],
   "source": [
    "'''1.a: Pie Chart:\n",
    "Extrmely helpful in comparing limited amount of quantities upto 5-6.\n",
    "Also it gived us a 3D illustration.\n",
    "Pie chart helps us visualize the data as a form of percentage of the circle. '''\n",
    "\n",
    "# PIE CHART IN PYTHON 3\n",
    "\n",
    "import matplotlib.pyplot as plt\n",
    "\n",
    "slices_hours = [4, 8] #data values\n",
    "activities = ['Sleep', 'Work'] #data legends\n",
    "colors = ['r', 'g'] #colors in the chart\n",
    "\n",
    "plt.pie(slices_hours, labels=activities, colors=colors, startangle=90, autopct='%.1f%%')\n",
    "plt.show()\n",
    "\n",
    "http://blog.adnansiddiqi.me/data-visualization-in-python-pie-charts-in-matplotlib/"
   ]
  },
  {
   "cell_type": "code",
   "execution_count": null,
   "metadata": {},
   "outputs": [],
   "source": [
    "'''1.b: Bar Graph:\n",
    "Bar chart or bar graph is a chart or graph that presents categorical data with rectangular bars.\n",
    "The heights or lengths of the bar is proportional to the values that they represent.\n",
    "These are useful in comparing larger amounts of data.'''\n",
    "\n",
    "# BAR GRAPH IN PYTHON 3\n",
    "\n",
    "\n",
    "import matplotlib.pyplot as plt\n",
    "import numpy as np\n",
    " \n",
    "label = ['Adventure', 'Action', 'Drama', 'Comedy', 'Thriller/Suspense', 'Horror', 'Romantic Comedy', 'Musical',\n",
    "         'Documentary', 'Black Comedy', 'Western', 'Concert/Performance', 'Multiple Genres', 'Reality']\n",
    " \n",
    "no_movies = [\n",
    "    941,854,4595,2125,942,509,548,149,1952, 161,64,61,35,5\n",
    "]\n",
    "\n",
    "Python\n",
    "\n",
    "def plot_bar_x():\n",
    "    # this is for plotting purpose\n",
    "    index = np.arange(len(label))\n",
    "    plt.bar(index, no_movies)\n",
    "    plt.xlabel('Genre', fontsize=5)\n",
    "    plt.ylabel('No of Movies', fontsize=5)\n",
    "    plt.xticks(index, label, fontsize=5, rotation=30)\n",
    "    plt.title('Market Share for Each Genre 1995-2017')\n",
    "    plt.show()\n",
    "    \n",
    "    http://blog.adnansiddiqi.me/data-visualization-in-python-bar-graph-in-matplotlib/"
   ]
  },
  {
   "cell_type": "code",
   "execution_count": null,
   "metadata": {},
   "outputs": [],
   "source": [
    "'''2.a Histograph:'''\n",
    "\n",
    "import matplotlib.pyplot as plt\n",
    "import numpy as np\n",
    "import pandas as pd\n",
    "x = np.random.random_integers(1, 100, 5)\n",
    "plt.hist(x, bins=20)\n",
    "plt.ylabel('No of times')\n",
    "plt.show()\n",
    "\n",
    "https://medium.com/python-pandemonium/data-visualization-in-python-histogram-in-matplotlib-dce38f49f89c"
   ]
  },
  {
   "cell_type": "code",
   "execution_count": null,
   "metadata": {},
   "outputs": [],
   "source": [
    "'''3. Box Plot\n",
    "Boxplots are a measure of how well distributed the data in a data set is. \n",
    "It divides the data set into three quartiles. \n",
    "This graph represents the minimum, maximum, median, first quartile and third quartile in the data set. \n",
    "It is also useful in comparing the distribution of data across data sets by drawing boxplots for each of them.'''\n",
    "\n",
    "import pandas as pd\n",
    "import numpy as np\n",
    "df = pd.DataFrame(np.random.rand(10, 5), columns=['A', 'B', 'C', 'D', 'E'])\n",
    "df.plot.box(grid='True')\n",
    "\n",
    "https://www.tutorialspoint.com/python/python_box_plots.htm"
   ]
  }
 ],
 "metadata": {
  "kernelspec": {
   "display_name": "Python 3",
   "language": "python",
   "name": "python3"
  },
  "language_info": {
   "codemirror_mode": {
    "name": "ipython",
    "version": 3
   },
   "file_extension": ".py",
   "mimetype": "text/x-python",
   "name": "python",
   "nbconvert_exporter": "python",
   "pygments_lexer": "ipython3",
   "version": "3.6.6"
  }
 },
 "nbformat": 4,
 "nbformat_minor": 2
}
