{
 "cells": [
  {
   "cell_type": "markdown",
   "metadata": {},
   "source": [
    "# Measures Of Dispersion"
   ]
  },
  {
   "cell_type": "markdown",
   "metadata": {},
   "source": [
    "## What??\n",
    "\n",
    "Dispersion in statistics is a way of describing how spread out a set of data is.\n",
    "\n",
    "## Why??\n",
    "\n",
    "The mean, mode, median by itself are not sufficient measure to reveal the shape of a distribution of a data sets.The measure of central tendency and dispersion taken together give a better picture of data set.\n",
    "\n",
    "## How??\n",
    "\n",
    "The spread of a data set can be described by:-\n",
    "1. Range\n",
    "2. Variance\n",
    "3. Standard Deviation\n",
    "4. Interquartile Range"
   ]
  },
  {
   "cell_type": "markdown",
   "metadata": {},
   "source": [
    "## *(i)Range*\n",
    "Defined as the difference between the largest and smallest sample values."
   ]
  },
  {
   "cell_type": "code",
   "execution_count": 1,
   "metadata": {},
   "outputs": [
    {
     "name": "stdout",
     "output_type": "stream",
     "text": [
      "90\n"
     ]
    }
   ],
   "source": [
    "var_list=[10,34,68,38,74,42,2,92]\n",
    "max_val=max(var_list)\n",
    "min_val=min(var_list)\n",
    "rang=max_val-min_val\n",
    "print(rang)"
   ]
  },
  {
   "cell_type": "markdown",
   "metadata": {},
   "source": [
    "## *(ii) Variance*\n",
    "\n",
    "It measures the spread of random data in a set from its mean or median value.\n",
    "\n",
    "A low value for variance indicates that the data are clustered together and are not spread apart widely, whereas a high value would indicate that the data in the given set are much more spread apart from the average value.\n"
   ]
  },
  {
   "cell_type": "code",
   "execution_count": 6,
   "metadata": {},
   "outputs": [
    {
     "name": "stdout",
     "output_type": "stream",
     "text": [
      "0.40924\n"
     ]
    }
   ],
   "source": [
    "# Importing Statistics module \n",
    "import statistics \n",
    "data= [2.74, 1.23, 2.63, 2.22, 3, 1.98] \n",
    "# Variance function itself calculate the mean and assign it to x_bar\n",
    "v=statistics.variance(data)\n",
    "print(v)"
   ]
  },
  {
   "cell_type": "markdown",
   "metadata": {},
   "source": [
    "## *(iii) Standard Deviation*\n",
    "\n",
    "The standard deviation is the square root of the sample variance. It can be calculated by:"
   ]
  },
  {
   "cell_type": "markdown",
   "metadata": {},
   "source": [
    "\n",
    "<img src=\"https://www.geeksforgeeks.org/wp-content/ql-cache/quicklatex.com-5f8955e2080392826fd89458cd55d3d5_l3.svg\" class=\"ql-img-inline-formula quicklatex-auto-format\" alt=\" {\\displaystyle s = {\\sqrt {\\frac {\\sum _{i=1}^{M}(x_{i}-{\\overline {x}})^{2}}{M-1}}} } \" title=\"Rendered by QuickLaTeX.com\" height=\"80\" width=\"244\" style=\"vertical-align: -25px;\">\n"
   ]
  },
  {
   "cell_type": "code",
   "execution_count": 7,
   "metadata": {},
   "outputs": [
    {
     "name": "stdout",
     "output_type": "stream",
     "text": [
      "Standard Deviation of sample is 1.5811388300841898 \n"
     ]
    }
   ],
   "source": [
    "import statistics \n",
    "sample = [1, 2, 3, 4, 5]\n",
    "print(\"Standard Deviation of sample is % s \" \n",
    "                % (statistics.stdev(sample)))"
   ]
  },
  {
   "cell_type": "markdown",
   "metadata": {},
   "source": [
    "## *(iv) Interquartile Range*\n",
    "\n",
    "The quartiles of a ranked set of data values are three points which divide the data into exactly four equal parts, each part comprising of quarter data.\n",
    "\n",
    "**Q1** is defined as the middle number between the smallest number and the median of the data set.\n",
    "\n",
    "**Q2** is the median of the data.\n",
    "\n",
    "**Q3** is the middle value between the median and the highest value of the data set.\n",
    "\n",
    "**IQR = Q3 - Q1**\n",
    "\n",
    "Uses\n",
    "1. Unlike range, IQR tells where the majority of data lies and is thus preferred over range.\n",
    "2. IQR can be used to identify outliers in a data set.\n",
    "3. Gives the central tendency of the data."
   ]
  },
  {
   "cell_type": "code",
   "execution_count": 20,
   "metadata": {},
   "outputs": [
    {
     "name": "stdout",
     "output_type": "stream",
     "text": [
      "11.0\n"
     ]
    }
   ],
   "source": [
    "import numpy as np\n",
    "array=[  1, 19, 7, 6, 5, 9, 12, 27, 18, 2, 15  ]\n",
    "q75,q25 = np.percentile(array,[75,25])\n",
    "#print(q75)\n",
    "#print(q25)\n",
    "iqr = q75 - q25\n",
    "print(iqr)"
   ]
  }
 ],
 "metadata": {
  "kernelspec": {
   "display_name": "Python 3",
   "language": "python",
   "name": "python3"
  },
  "language_info": {
   "codemirror_mode": {
    "name": "ipython",
    "version": 3
   },
   "file_extension": ".py",
   "mimetype": "text/x-python",
   "name": "python",
   "nbconvert_exporter": "python",
   "pygments_lexer": "ipython3",
   "version": "3.6.5"
  }
 },
 "nbformat": 4,
 "nbformat_minor": 2
}
