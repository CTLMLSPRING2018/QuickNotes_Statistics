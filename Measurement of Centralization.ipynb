{
 "cells": [
  {
   "cell_type": "code",
   "execution_count": null,
   "metadata": {},
   "outputs": [],
   "source": [
    "Centralization Measures\n",
    "They are statistical parameters that can be taken as representative distribution of all data and are taken as the center of it. The most important are the Mean, Median and Mode.\n",
    "Mean\n",
    "the average of a set of numerical values, as calculated by adding them together and dividing by the number of terms in the set.\n",
    "//\n",
    "Import statistics\n",
    "data1 = [1, 3, 4, 5, 7, 9, 2]\n",
    "x = statistics.mean(data1)\n",
    "print(\"Mean is :\", x)\n",
    "#>>4.42857143\n",
    "//\n",
    "Median\n",
    "Given a collection of data ordered by increasing or decreasing the way Median form, is the central value of the variable, this is, which is exactly half of that collection.\n",
    "//\n",
    "import statistics\n",
    "items = [1, 2, 3, 6, 8]\n",
    "statistics.median(items)\n",
    "#>>> 3\n",
    "//\n",
    "Mode\n",
    "It is defined as the value that appears more frequently.\n",
    "//\n",
    "import statistics\n",
    "Set=[1,1,1,2,2,3,4,4,4,4,5,6,6]\n",
    "print(\"Mode of given data set is %s\" % (statistics.mode(set1)\n",
    "#>>4\n",
    "//\n"
   ]
  }
 ],
 "metadata": {
  "kernelspec": {
   "display_name": "Python 3",
   "language": "python",
   "name": "python3"
  },
  "language_info": {
   "codemirror_mode": {
    "name": "ipython",
    "version": 3
   },
   "file_extension": ".py",
   "mimetype": "text/x-python",
   "name": "python",
   "nbconvert_exporter": "python",
   "pygments_lexer": "ipython3",
   "version": "3.6.6"
  }
 },
 "nbformat": 4,
 "nbformat_minor": 2
}
